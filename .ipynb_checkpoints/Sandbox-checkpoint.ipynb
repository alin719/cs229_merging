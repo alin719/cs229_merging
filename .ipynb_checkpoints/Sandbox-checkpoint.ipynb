{
 "cells": [
  {
   "cell_type": "code",
   "execution_count": 2,
   "metadata": {
    "collapsed": false
   },
   "outputs": [
    {
     "data": {
      "text/plain": [
       "<module 'lib.frame_util' from 'C:\\\\Users\\\\Alex Lin\\\\Documents\\\\CS229\\\\Project\\\\cs229_merging\\\\lib\\\\frame_util.py'>"
      ]
     },
     "execution_count": 2,
     "metadata": {},
     "output_type": "execute_result"
    }
   ],
   "source": [
    "import numpy as np\n",
    "import matplotlib.pyplot as plt\n",
    "import time\n",
    "import pylab as pl\n",
    "import importlib\n",
    "from IPython import display\n",
    "from lib import util\n",
    "from copy import deepcopy\n",
    "%matplotlib inline\n",
    "from lib import frame_util as futil\n",
    "importlib.reload(futil)"
   ]
  },
  {
   "cell_type": "code",
   "execution_count": null,
   "metadata": {
    "collapsed": false
   },
   "outputs": [],
   "source": [
    "vidDict = futil.LoadDictFromTxt(\"res/101_trajectories/aug_trajectories-0750am-0805am.txt\", 'vid')"
   ]
  },
  {
   "cell_type": "code",
   "execution_count": null,
   "metadata": {
    "collapsed": false
   },
   "outputs": [],
   "source": [
    "start = time.localtime()\n",
    "frameDict = futil.LoadDictFromTxt(\"res/101_trajectories/aug_trajectories-0750am-0805am.txt\", 'frame')\n",
    "end = time.localtime()\n",
    "print(\"Loading took \", end - start , \" seconds.\")"
   ]
  },
  {
   "cell_type": "code",
   "execution_count": 4,
   "metadata": {
    "collapsed": false
   },
   "outputs": [],
   "source": [
    "grids = futil.GetGridsFromFrameDict(frameDict)"
   ]
  },
  {
   "cell_type": "code",
   "execution_count": null,
   "metadata": {
    "collapsed": false
   },
   "outputs": [],
   "source": [
    "print(len(grids))\n",
    "futil.AnimateFrames(frameDict)"
   ]
  },
  {
   "cell_type": "code",
   "execution_count": null,
   "metadata": {
    "collapsed": false
   },
   "outputs": [],
   "source": [
    "#[VID, FID, totalF, globaltime, localX, localY, globalX, globalY, \\\n",
    "#vehicleLength, vehicleWidth, vehicleClass, vVelocity, vAccel, laneID\\\n",
    "#precedingVID, followingVID, spacingFt, headwayFt]"
   ]
  },
  {
   "cell_type": "code",
   "execution_count": null,
   "metadata": {
    "collapsed": false
   },
   "outputs": [],
   "source": [
    "#With a loaded frameDict, animates frames.\n",
    "fig_size = plt.rcParams[\"figure.figsize\"]\n",
    " \n",
    "# Prints: [8.0, 6.0]\n",
    "print(\"Current size:\", fig_size)\n",
    " \n",
    "# Set figure width to 12 and height to 9\n",
    "fig_size[0] = 14\n",
    "fig_size[1] = 7\n",
    "plt.rcParams[\"figure.figsize\"] = fig_size\n",
    "plt.figure(1)\n",
    "\n",
    "for i in range(int(len(frameDict)/2)):\n",
    "    curFrame = frameDict[100 + i*5]\n",
    "    plotFrame(curFrame)\n",
    "    plt.clf()\n",
    "\n",
    "\n",
    "    "
   ]
  },
  {
   "cell_type": "code",
   "execution_count": null,
   "metadata": {
    "collapsed": true
   },
   "outputs": [],
   "source": [
    "def plotFrame(curFrame):\n",
    "    x,y = getFramePoints(curFrame)    \n",
    "    plt.plot(y,70 - x, 'ro')\n",
    "    plt.title(\"t = \" + str(i))\n",
    "    plt.axis([0, 2250, 0, 70])\n",
    "    display.clear_output(wait=True)\n",
    "    display.display(pl.gcf())\n",
    "    #plt.show()\n"
   ]
  },
  {
   "cell_type": "code",
   "execution_count": null,
   "metadata": {
    "collapsed": true
   },
   "outputs": [],
   "source": [
    "def getFramePoints(curFrame):\n",
    "    x = np.array([0]*len(curFrame))\n",
    "    y = np.array([0]*len(curFrame))\n",
    "    entryCounter = 0\n",
    "    for entry in curFrame:\n",
    "        x[entryCounter] = float(curFrame[entry][4])\n",
    "        y[entryCounter] = float(curFrame[entry][5])\n",
    "        entryCounter += 1\n",
    "    return x,y"
   ]
  },
  {
   "cell_type": "code",
   "execution_count": null,
   "metadata": {
    "collapsed": false
   },
   "outputs": [],
   "source": [
    "from lib import vehicleclass as v\n",
    "import importlib\n",
    "importlib.reload(v)"
   ]
  },
  {
   "cell_type": "code",
   "execution_count": null,
   "metadata": {
    "collapsed": true
   },
   "outputs": [],
   "source": [
    "MAX_X = 70\n",
    "MAX_Y = 2250\n",
    "X_DIV = 35\n",
    "Y_DIV = 200\n",
    "X_STEP = float(MAX_X/X_DIV)\n",
    "Y_STEP = float(MAX_Y/Y_DIV)\n",
    "def FrameToGrid(frame):\n",
    "    #features = x, y, vx, vy, ax, ay\n",
    "    grid = np.zeros((X_DIV + 2, Y_DIV + 2, 6))\n",
    "    for vid in frame:\n",
    "        vehicleData = frame[vid]\n",
    "        veh = v.vehicle(vehicleData)\n",
    "        gridX = int(veh.getX() / X_STEP)\n",
    "        gridY = int(veh.getY() / Y_STEP)\n",
    "        #print(veh.getX(), gridX, veh.getY(), gridY)\n",
    "        grid[gridX][gridY] = veh.getTrajectory()\n",
    "        #print(gridX, gridY)\n",
    "    return grid"
   ]
  },
  {
   "cell_type": "code",
   "execution_count": null,
   "metadata": {
    "collapsed": false
   },
   "outputs": [],
   "source": [
    "from lib import vehicleclass as v\n",
    "\n",
    "importlib.reload(v)\n",
    "g = FrameToGrid(frameDict[150])\n",
    "\n",
    "print(g.shape)\n",
    "print(g)\n"
   ]
  },
  {
   "cell_type": "code",
   "execution_count": null,
   "metadata": {
    "collapsed": true
   },
   "outputs": [],
   "source": [
    "def GetGridsFromFrameDict(frameDict):\n",
    "    gridDict = {}\n",
    "    for i in frameDict:\n",
    "        frame = frameDict[i]\n",
    "        grid = FrameToGrid(frame)\n",
    "        gridDict[i] = deepcopy(grid)\n",
    "    return gridDict"
   ]
  },
  {
   "cell_type": "code",
   "execution_count": null,
   "metadata": {
    "collapsed": false
   },
   "outputs": [],
   "source": [
    "print(frameDict[13])"
   ]
  },
  {
   "cell_type": "code",
   "execution_count": null,
   "metadata": {
    "collapsed": false
   },
   "outputs": [],
   "source": [
    "gd = GetGridsFromFrameDict(frameDict)"
   ]
  },
  {
   "cell_type": "code",
   "execution_count": null,
   "metadata": {
    "collapsed": false
   },
   "outputs": [],
   "source": [
    "print(len(gd))"
   ]
  },
  {
   "cell_type": "code",
   "execution_count": null,
   "metadata": {
    "collapsed": false
   },
   "outputs": [],
   "source": [
    "#print(gd[150])\n",
    "print(np.sum(gd[150]))\n",
    "print(gd[150].shape)"
   ]
  },
  {
   "cell_type": "code",
   "execution_count": null,
   "metadata": {
    "collapsed": false
   },
   "outputs": [],
   "source": [
    "plotFrame(frameDict[150])"
   ]
  },
  {
   "cell_type": "code",
   "execution_count": null,
   "metadata": {
    "collapsed": true
   },
   "outputs": [],
   "source": [
    "gflat = np.sum(gd[150], axis=2)"
   ]
  },
  {
   "cell_type": "code",
   "execution_count": null,
   "metadata": {
    "collapsed": false
   },
   "outputs": [],
   "source": [
    "print(gflat.shape)"
   ]
  },
  {
   "cell_type": "code",
   "execution_count": null,
   "metadata": {
    "collapsed": false
   },
   "outputs": [],
   "source": [
    "gflat[gflat != 0]"
   ]
  },
  {
   "cell_type": "code",
   "execution_count": null,
   "metadata": {
    "collapsed": false
   },
   "outputs": [],
   "source": [
    "gflat = np.sum(grid, axis=2)\n",
    "nz = np.nonzero(gflat)\n",
    "nzx = nz[0]*X_STEP\n",
    "nzy = nz[1]*Y_STEP\n",
    "plt.axis([0, 2250, -70, 0])\n",
    "plt.plot(nzy, -nzx, 'ro')\n",
    "plt.show()\n"
   ]
  },
  {
   "cell_type": "code",
   "execution_count": null,
   "metadata": {
    "collapsed": false
   },
   "outputs": [],
   "source": [
    "plotFrame(frameDict[150])"
   ]
  },
  {
   "cell_type": "code",
   "execution_count": null,
   "metadata": {
    "collapsed": false
   },
   "outputs": [],
   "source": [
    "from lib import frame_util as futil\n",
    "importlib.reload(futil)\n",
    "futil.AnimateFrames(frameDict)"
   ]
  },
  {
   "cell_type": "code",
   "execution_count": null,
   "metadata": {
    "collapsed": true
   },
   "outputs": [],
   "source": []
  }
 ],
 "metadata": {
  "kernelspec": {
   "display_name": "Python 3",
   "language": "python",
   "name": "python3"
  },
  "language_info": {
   "codemirror_mode": {
    "name": "ipython",
    "version": 3
   },
   "file_extension": ".py",
   "mimetype": "text/x-python",
   "name": "python",
   "nbconvert_exporter": "python",
   "pygments_lexer": "ipython3",
   "version": "3.5.1"
  }
 },
 "nbformat": 4,
 "nbformat_minor": 0
}
