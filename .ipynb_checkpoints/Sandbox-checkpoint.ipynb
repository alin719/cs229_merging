{
 "cells": [
  {
   "cell_type": "code",
   "execution_count": null,
   "metadata": {
    "collapsed": false
   },
   "outputs": [],
   "source": [
    "import numpy as np\n",
    "import matplotlib.pyplot as plt\n",
    "import time\n",
    "import pylab as pl\n",
    "from IPython import display\n",
    "from lib import util\n",
    "from copy import deepcopy\n",
    "%matplotlib inline"
   ]
  },
  {
   "cell_type": "code",
   "execution_count": null,
   "metadata": {
    "collapsed": false
   },
   "outputs": [],
   "source": [
    "from lib import frame_util as futil\n",
    "vidDict = futil.AddVxAx(\"res/101_trajectories/trajectories-0750am-0805am.txt\", \"res/101_trajectories/aug_trajectories-0750am-0805am.txt\")\n",
    "\n",
    "print(len(vidDict))\n"
   ]
  },
  {
   "cell_type": "code",
   "execution_count": null,
   "metadata": {
    "collapsed": false
   },
   "outputs": [],
   "source": [
    "util.dumpJSONDict(\"testDump.json\", vidDict)"
   ]
  },
  {
   "cell_type": "code",
   "execution_count": null,
   "metadata": {
    "collapsed": true
   },
   "outputs": [],
   "source": [
    "util.dumpJSONDict(\"frameDict1.json\", frameDict)"
   ]
  },
  {
   "cell_type": "code",
   "execution_count": null,
   "metadata": {
    "collapsed": true
   },
   "outputs": [],
   "source": []
  },
  {
   "cell_type": "code",
   "execution_count": null,
   "metadata": {
    "collapsed": false
   },
   "outputs": [],
   "source": [
    "newFrameDict = util.loadJSONDict(\"frameDict1.json\")\n",
    "print(len(newFrameDict))\n",
    "print(len(frameDict))"
   ]
  },
  {
   "cell_type": "code",
   "execution_count": null,
   "metadata": {
    "collapsed": false
   },
   "outputs": [],
   "source": [
    "vidDict = util.loadJSONDict(\"testDump.json\")\n"
   ]
  },
  {
   "cell_type": "code",
   "execution_count": null,
   "metadata": {
    "collapsed": false
   },
   "outputs": [],
   "source": [
    "#[VID, FID, totalF, globaltime, localX, localY, globalX, globalY, \\\n",
    "#vehicleLength, vehicleWidth, vehicleClass, vVelocity, vAccel, laneID\\\n",
    "#precedingVID, followingVID, spacingFt, headwayFt]\n",
    "\n",
    "#Test code for dict conversions.\n",
    "frameDict = {}\n",
    "vidDictLen = len(vidDict)\n",
    "counter = 0\n",
    "print(vidDictLen, \" entries to convert\")\n",
    "for elem in vidDict:\n",
    "    elem = int(elem)\n",
    "    for vid in vidDict[elem]:\n",
    "        entry = vidDict[elem][vid]\n",
    "        curVID = int(entry[0])\n",
    "        frameID = int(entry[1])\n",
    "        if frameID not in frameDict:\n",
    "            frameDict[frameID] = {}\n",
    "        frameDict[frameID][curVID] = deepcopy(entry)\n",
    "    if counter % 200 == 0:\n",
    "        print(\"Processing.... \", counter, \" / \", vidDictLen)\n",
    "    counter += 1\n",
    "        \n"
   ]
  },
  {
   "cell_type": "code",
   "execution_count": null,
   "metadata": {
    "collapsed": false
   },
   "outputs": [],
   "source": [
    "#With a loaded frameDict, animates frames.\n",
    "fig_size = plt.rcParams[\"figure.figsize\"]\n",
    " \n",
    "# Prints: [8.0, 6.0]\n",
    "print(\"Current size:\", fig_size)\n",
    " \n",
    "# Set figure width to 12 and height to 9\n",
    "fig_size[0] = 14\n",
    "fig_size[1] = 7\n",
    "plt.rcParams[\"figure.figsize\"] = fig_size\n",
    "plt.figure(1)\n",
    "\n",
    "for i in range(int(len(frameDict)/2)):\n",
    "    curFrame = frameDict[100 + i*5]\n",
    "    #print(len(curFrame))\n",
    "    x = np.array([0]*len(curFrame))\n",
    "    y = np.array([0]*len(curFrame))\n",
    "    #print(len(x))\n",
    "    entryCounter = 0\n",
    "    for entry in curFrame:\n",
    "        x[entryCounter] = float(curFrame[entry][4])\n",
    "        y[entryCounter] = float(curFrame[entry][5])\n",
    "        entryCounter += 1\n",
    "    \n",
    "    plt.plot(y,70 - x, 'ro')\n",
    "    plt.title(\"t = \" + str(i))\n",
    "    plt.axis([0, 2250, 0, 70])\n",
    "    display.clear_output(wait=True)\n",
    "    display.display(pl.gcf())\n",
    "    \n",
    "    plt.show()\n",
    "\n",
    "\n",
    "    "
   ]
  },
  {
   "cell_type": "code",
   "execution_count": null,
   "metadata": {
    "collapsed": true
   },
   "outputs": [],
   "source": []
  }
 ],
 "metadata": {
  "kernelspec": {
   "display_name": "Python 3",
   "language": "python",
   "name": "python3"
  },
  "language_info": {
   "codemirror_mode": {
    "name": "ipython",
    "version": 3
   },
   "file_extension": ".py",
   "mimetype": "text/x-python",
   "name": "python",
   "nbconvert_exporter": "python",
   "pygments_lexer": "ipython3",
   "version": "3.5.1"
  }
 },
 "nbformat": 4,
 "nbformat_minor": 0
}
