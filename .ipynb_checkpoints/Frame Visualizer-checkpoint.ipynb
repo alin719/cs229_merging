{
 "cells": [
  {
   "cell_type": "code",
   "execution_count": 1,
   "metadata": {
    "collapsed": false
   },
   "outputs": [],
   "source": [
    "import numpy as np\n",
    "import matplotlib.pyplot as plt\n",
    "import time\n",
    "import pylab as pl\n",
    "from IPython import display\n",
    "from lib import util\n",
    "from copy import deepcopy\n",
    "%matplotlib inline\n",
    "from lib import frame_util as futil"
   ]
  },
  {
   "cell_type": "code",
   "execution_count": null,
   "metadata": {
    "collapsed": false
   },
   "outputs": [],
   "source": [
    "\n",
    "vidDict = futil.AddVxAx(\"res/101_trajectories/trajectories-0750am-0805am.txt\", \"res/101_trajectories/aug_trajectories-0750am-0805am.txt\")\n",
    "\n",
    "print(len(vidDict))\n"
   ]
  },
  {
   "cell_type": "code",
   "execution_count": null,
   "metadata": {
    "collapsed": false
   },
   "outputs": [],
   "source": [
    "util.dumpJSONDict(\"testDump.json\", vidDict)"
   ]
  },
  {
   "cell_type": "code",
   "execution_count": null,
   "metadata": {
    "collapsed": true
   },
   "outputs": [],
   "source": [
    "util.dumpJSONDict(\"frameDict1.json\", frameDict)"
   ]
  },
  {
   "cell_type": "code",
   "execution_count": 2,
   "metadata": {
    "collapsed": false
   },
   "outputs": [],
   "source": [
    "vidDict = futil.LoadDictFromTxt(\"res/101_trajectories/aug_trajectories-0750am-0805am.txt\", 'vid')"
   ]
  },
  {
   "cell_type": "code",
   "execution_count": 2,
   "metadata": {
    "collapsed": false
   },
   "outputs": [],
   "source": [
    "frameDict = futil.LoadDictFromTxt(\"res/101_trajectories/aug_trajectories-0750am-0805am.txt\", 'frame')"
   ]
  },
  {
   "cell_type": "code",
   "execution_count": null,
   "metadata": {
    "collapsed": false
   },
   "outputs": [],
   "source": [
    "vidDict = util.loadJSONDict(\"testDump.json\")\n"
   ]
  },
  {
   "cell_type": "code",
   "execution_count": null,
   "metadata": {
    "collapsed": false
   },
   "outputs": [],
   "source": [
    "#[VID, FID, totalF, globaltime, localX, localY, globalX, globalY, \\\n",
    "#vehicleLength, vehicleWidth, vehicleClass, vVelocity, vAccel, laneID\\\n",
    "#precedingVID, followingVID, spacingFt, headwayFt]"
   ]
  },
  {
   "cell_type": "code",
   "execution_count": 3,
   "metadata": {
    "collapsed": false
   },
   "outputs": [
    {
     "name": "stderr",
     "output_type": "stream",
     "text": [
      "\n",
      "KeyboardInterrupt\n"
     ]
    },
    {
     "data": {
      "image/png": "[encoded data removed]",
      "text/plain": [
       "<matplotlib.figure.Figure at 0x1603031d68>"
      ]
     },
     "metadata": {},
     "output_type": "display_data"
    }
   ],
   "source": [
    "#With a loaded frameDict, animates frames.\n",
    "fig_size = plt.rcParams[\"figure.figsize\"]\n",
    " \n",
    "# Prints: [8.0, 6.0]\n",
    "print(\"Current size:\", fig_size)\n",
    " \n",
    "# Set figure width to 12 and height to 9\n",
    "fig_size[0] = 14\n",
    "fig_size[1] = 7\n",
    "plt.rcParams[\"figure.figsize\"] = fig_size\n",
    "plt.figure(1)\n",
    "\n",
    "for i in range(int(len(frameDict)/2)):\n",
    "    curFrame = frameDict[100 + i*5]\n",
    "    #print(len(curFrame))\n",
    "    x = np.array([0]*len(curFrame))\n",
    "    y = np.array([0]*len(curFrame))\n",
    "    #print(len(x))\n",
    "    entryCounter = 0\n",
    "    for entry in curFrame:\n",
    "        x[entryCounter] = float(curFrame[entry][4])\n",
    "        y[entryCounter] = float(curFrame[entry][5])\n",
    "        entryCounter += 1\n",
    "    \n",
    "    plt.plot(y,70 - x, 'ro')\n",
    "    plt.title(\"t = \" + str(i))\n",
    "    plt.axis([0, 2250, 0, 70])\n",
    "    display.clear_output(wait=True)\n",
    "    display.display(pl.gcf())\n",
    "    \n",
    "    plt.show()\n",
    "\n",
    "\n",
    "    "
   ]
  },
  {
   "cell_type": "code",
   "execution_count": null,
   "metadata": {
    "collapsed": true
   },
   "outputs": [],
   "source": []
  }
 ],
 "metadata": {
  "kernelspec": {
   "display_name": "Python 3",
   "language": "python",
   "name": "python3"
  },
  "language_info": {
   "codemirror_mode": {
    "name": "ipython",
    "version": 3
   },
   "file_extension": ".py",
   "mimetype": "text/x-python",
   "name": "python",
   "nbconvert_exporter": "python",
   "pygments_lexer": "ipython3",
   "version": "3.5.1"
  }
 },
 "nbformat": 4,
 "nbformat_minor": 0
}
